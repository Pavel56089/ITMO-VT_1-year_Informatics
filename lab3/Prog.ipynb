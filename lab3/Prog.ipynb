{
 "cells": [
  {
   "cell_type": "code",
   "execution_count": null,
   "metadata": {},
   "outputs": [],
   "source": [
    "Пишем функцию перевода"
   ]
  },
  {
   "cell_type": "code",
   "execution_count": 1,
   "metadata": {},
   "outputs": [
    {
     "name": "stdout",
     "output_type": "stream",
     "text": [
      "Исходные данные:\n",
      "Апельсинов А.А. 08.02.2000 17.03.2014 7 8 9\n",
      "Виноградов В.В. 09.03.1999 15.04.2013 67 99 98\n",
      "Яблоков Я.Я. 10.04.2000 19.05.2014 94 94 94\n",
      "Морковкин М.М. 11.05.1999 17.06.2013 91 82 73\n"
     ]
    }
   ],
   "source": [
    "import codecs\n",
    "def ConvertToInt(n):\n",
    "    c=0\n",
    "    if len(n) == 3:\n",
    "        c = 100\n",
    "    elif len(n) == 2:\n",
    "        c = (ord(n[0])-48)*10 + (ord(n[1])-48)\n",
    "    elif len(n) == 1:\n",
    "        c = (ord(n[0])-48)\n",
    "    return c\n",
    "\n",
    "\n",
    "file = codecs.open( \"input.txt\", \"r\", \"utf-8\" )\n",
    "data = file.read()\n",
    "print(\"Исходные данные:\")\n",
    "print(data)\n",
    "#разбиваем строки\n",
    "length = data.split('\\n')\n",
    "NewData = [None] * len(length)\n",
    "#находим средний балл каждого\n",
    "for i in range(0, len(length)):\n",
    "    item = item = length[i].split(' ')\n",
    "    SumOfPoints = (ConvertToInt(item[4])+ConvertToInt(item[5])+ConvertToInt(item[6]))/3\n",
    "    NewData[i] = item[0] + ' ' + item[1] + ' | ' + item[2] + ' | ' + item[3] + ' | ' + item[4] + ' ' + item[5] + ' ' + item[6] + ' -> ' + str(SumOfPoints), item[0]\n",
    "\n",
    "NewData = sorted(NewData, key=lambda x: x[1], reverse = True)\n",
    "file.close()"
   ]
  },
  {
   "cell_type": "markdown",
   "metadata": {},
   "source": [
    "Вывод:"
   ]
  },
  {
   "cell_type": "code",
   "execution_count": 2,
   "metadata": {},
   "outputs": [
    {
     "name": "stdout",
     "output_type": "stream",
     "text": [
      "Яблоков Я.Я. | 10.04.2000 | 19.05.2014 | 94 94 94 -> 94.0\n",
      "Морковкин М.М. | 11.05.1999 | 17.06.2013 | 91 82 73 -> 82.0\n",
      "Виноградов В.В. | 09.03.1999 | 15.04.2013 | 67 99 98 -> 88.0\n",
      "Апельсинов А.А. | 08.02.2000 | 17.03.2014 | 7 8 9 -> 8.0\n"
     ]
    }
   ],
   "source": [
    "for i in NewData:\n",
    "    print(i[0])"
   ]
  },
  {
   "cell_type": "code",
   "execution_count": 6,
   "metadata": {},
   "outputs": [
    {
     "data": {
      "text/plain": [
       "2"
      ]
     },
     "execution_count": 6,
     "metadata": {},
     "output_type": "execute_result"
    }
   ],
   "source": [
    "a = [1, 2, 3]\n",
    "a[-2]"
   ]
  },
  {
   "cell_type": "code",
   "execution_count": null,
   "metadata": {},
   "outputs": [],
   "source": []
  }
 ],
 "metadata": {
  "kernelspec": {
   "display_name": "Python 3",
   "language": "python",
   "name": "python3"
  },
  "language_info": {
   "codemirror_mode": {
    "name": "ipython",
    "version": 3
   },
   "file_extension": ".py",
   "mimetype": "text/x-python",
   "name": "python",
   "nbconvert_exporter": "python",
   "pygments_lexer": "ipython3",
   "version": "3.6.4"
  }
 },
 "nbformat": 4,
 "nbformat_minor": 2
}
