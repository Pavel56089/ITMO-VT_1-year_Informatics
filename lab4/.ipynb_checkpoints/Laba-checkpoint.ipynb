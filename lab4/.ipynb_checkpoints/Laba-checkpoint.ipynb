{
 "cells": [
  {
   "cell_type": "markdown",
   "metadata": {},
   "source": [
    "# Перевод из json в xml"
   ]
  },
  {
   "cell_type": "code",
   "execution_count": 31,
   "metadata": {},
   "outputs": [],
   "source": [
    "import re"
   ]
  },
  {
   "cell_type": "code",
   "execution_count": 123,
   "metadata": {},
   "outputs": [],
   "source": [
    "def JsonToXML(json, xml):\n",
    "    xml.write('<?xml version=\"1.0\" encoding=\"UTF-8\"?>\\n')\n",
    "    count= 0 \n",
    "    ch = []\n",
    "    lastMsg = []\n",
    "    titles = []\n",
    "    \n",
    "    for line in json:\n",
    "        if '{' in line:\n",
    "            pass\n",
    "        elif ('}' in line) and (',' not in line):\n",
    "            if(len(titles[count-1]) != 0):\n",
    "                xml.write(\"</\" + titles.pop().strip() + \">\\n\")\n",
    "                count -= 1\n",
    "        elif '}' in line:\n",
    "            pass\n",
    "        else:\n",
    "            line = line.replace('\"', '').replace(',','').replace('\\n', '').strip().split(\":\")\n",
    "            if(len(line[0]) != 0):\n",
    "                titles.append(line[0])\n",
    "                xml.write(\"<\" + line[0].strip() + \">\\n\")\n",
    "                count += 1\n",
    "            \n",
    "                if(len(line) == 2):\n",
    "                    if(len(line[1]) != 0):\n",
    "                        print(line)\n",
    "                        xml.write(line[1] + \"\\n\")\n",
    "                        xml.write(\"</\" + titles.pop().strip() + \">\\n\")\n"
   ]
  },
  {
   "cell_type": "markdown",
   "metadata": {},
   "source": [
    "функция перевода"
   ]
  },
  {
   "cell_type": "markdown",
   "metadata": {},
   "source": [
    "считаем из файла"
   ]
  },
  {
   "cell_type": "code",
   "execution_count": 125,
   "metadata": {
    "scrolled": true
   },
   "outputs": [
    {
     "name": "stdout",
     "output_type": "stream",
     "text": [
      "['day ', ' Понедельник']\n",
      "['number ', ' 1']\n",
      "['week ', ' Четная']\n",
      "['time ', ' 10.00 - 11.30']\n",
      "['campus ', ' Кронверкский пр. д.49 лит.А']\n",
      "['class ', ' 371']\n",
      "['subject ', ' ПРОГРАММИРОВАНИЕ (ЛАБ)']\n",
      "['teacher ', ' Письмак Алексей Евгеньевич']\n",
      "['number ', ' 1']\n",
      "['week ', ' Нечетная']\n",
      "['time ', ' 10.00 - 11.30']\n",
      "['campus ', ' Кронверкский пр. д.49 лит.А']\n",
      "['class ', ' 372']\n",
      "['subject ', ' ОСНОВЫ ПРОФЕССИОНАЛЬНОЙ ДЕЯТЕЛЬНОСТИ (ЛАБ)']\n",
      "['teacher ', ' Ткешелашвили Нино Мерабиевна']\n",
      "['number ', ' 2']\n",
      "['week ', ' Четная']\n",
      "['time ', ' 11.40 - 13.10']\n",
      "['campus ', ' Кронверкский пр. д.49 лит.А']\n",
      "['class ', ' 371']\n",
      "['subject ', ' ПРОГРАММИРОВАНИЕ (ЛАБ)']\n",
      "['teacher ', ' Письмак Алексей Евгеньевич']\n",
      "['number ', ' 2']\n",
      "['week ', ' Нечетная']\n",
      "['time ', ' 11.40 - 13.10']\n",
      "['campus ', ' Кронверкский пр. д.49 лит.А']\n",
      "['class ', ' 372']\n",
      "['subject ', ' ОСНОВЫ ПРОФЕССИОНАЛЬНОЙ ДЕЯТЕЛЬНОСТИ (ЛАБ)']\n",
      "['teacher ', ' Ткешелашвили Нино Мерабиевна']\n",
      "['number ', ' 3']\n",
      "['week ', ' Четная']\n",
      "['time ', ' 13.30 - 15.00']\n",
      "['campus ', ' Кронверкский пр. д.49 лит.А']\n",
      "['class ', ' 369']\n",
      "['subject ', ' ДИСКРЕТНАЯ МАТЕМАТИКА (ПРАК)']\n",
      "['teacher ', ' Поляков Владимир Иванович']\n",
      "['number ', ' 3']\n",
      "['week ', ' Нечетная']\n",
      "['time ', ' 13.30 - 15.00']\n",
      "['campus ', ' Кронверкский пр. д.49 лит.А']\n",
      "['class ', ' 304']\n",
      "['subject ', ' ИНФОРМАТИКА (ЛАБ)']\n",
      "['teacher ', ' Малышева Татьяна Алексеевна']\n",
      "['number ', ' 4']\n",
      "['week ', ' Четная']\n",
      "['time ', ' 15.20 - 16.50']\n",
      "['campus ', ' Кронверкский пр. д.49 лит.А']\n",
      "['class ', ' 369']\n",
      "['subject ', ' ДИСКРЕТНАЯ МАТЕМАТИКА (ПРАК)']\n",
      "['teacher ', ' Поляков Владимир Иванович']\n",
      "['number ', ' 4']\n",
      "['week ', ' Нечетная']\n",
      "['time ', ' 15.20 - 16.50']\n",
      "['campus ', ' Кронверкский пр. д.49 лит.А']\n",
      "['class ', ' 304']\n",
      "['subject ', ' ИНФОРМАТИКА (ЛАБ)']\n",
      "['teacher ', ' Малышева Татьяна Алексеевна']\n"
     ]
    },
    {
     "ename": "IndexError",
     "evalue": "list index out of range",
     "output_type": "error",
     "traceback": [
      "\u001b[1;31m---------------------------------------------------------------------------\u001b[0m",
      "\u001b[1;31mIndexError\u001b[0m                                Traceback (most recent call last)",
      "\u001b[1;32m<ipython-input-125-caa6ad6f06ed>\u001b[0m in \u001b[0;36m<module>\u001b[1;34m()\u001b[0m\n\u001b[0;32m      1\u001b[0m \u001b[0minputf\u001b[0m \u001b[1;33m=\u001b[0m \u001b[0mopen\u001b[0m\u001b[1;33m(\u001b[0m\u001b[1;34m'input.json'\u001b[0m\u001b[1;33m,\u001b[0m \u001b[1;34m'r'\u001b[0m\u001b[1;33m,\u001b[0m \u001b[0mencoding\u001b[0m\u001b[1;33m=\u001b[0m\u001b[1;34m\"utf-8\"\u001b[0m\u001b[1;33m)\u001b[0m\u001b[1;33m\u001b[0m\u001b[0m\n\u001b[0;32m      2\u001b[0m \u001b[0moutputf\u001b[0m \u001b[1;33m=\u001b[0m \u001b[0mopen\u001b[0m\u001b[1;33m(\u001b[0m\u001b[1;34m'output.xml'\u001b[0m\u001b[1;33m,\u001b[0m \u001b[1;34m'w'\u001b[0m\u001b[1;33m,\u001b[0m \u001b[0mencoding\u001b[0m \u001b[1;33m=\u001b[0m\u001b[1;34m\"utf-8\"\u001b[0m\u001b[1;33m)\u001b[0m\u001b[1;33m\u001b[0m\u001b[0m\n\u001b[1;32m----> 3\u001b[1;33m \u001b[0mJsonToXML\u001b[0m\u001b[1;33m(\u001b[0m\u001b[0minputf\u001b[0m\u001b[1;33m,\u001b[0m \u001b[0moutputf\u001b[0m\u001b[1;33m)\u001b[0m\u001b[1;33m\u001b[0m\u001b[0m\n\u001b[0m\u001b[0;32m      4\u001b[0m \u001b[0minputf\u001b[0m\u001b[1;33m.\u001b[0m\u001b[0mclose\u001b[0m\u001b[1;33m(\u001b[0m\u001b[1;33m)\u001b[0m\u001b[1;33m\u001b[0m\u001b[0m\n\u001b[0;32m      5\u001b[0m \u001b[0moutputf\u001b[0m\u001b[1;33m.\u001b[0m\u001b[0mclose\u001b[0m\u001b[1;33m(\u001b[0m\u001b[1;33m)\u001b[0m\u001b[1;33m\u001b[0m\u001b[0m\n",
      "\u001b[1;32m<ipython-input-123-691e261386ca>\u001b[0m in \u001b[0;36mJsonToXML\u001b[1;34m(json, xml)\u001b[0m\n\u001b[0;32m     10\u001b[0m             \u001b[1;32mpass\u001b[0m\u001b[1;33m\u001b[0m\u001b[0m\n\u001b[0;32m     11\u001b[0m         \u001b[1;32melif\u001b[0m \u001b[1;33m(\u001b[0m\u001b[1;34m'}'\u001b[0m \u001b[1;32min\u001b[0m \u001b[0mline\u001b[0m\u001b[1;33m)\u001b[0m \u001b[1;32mand\u001b[0m \u001b[1;33m(\u001b[0m\u001b[1;34m','\u001b[0m \u001b[1;32mnot\u001b[0m \u001b[1;32min\u001b[0m \u001b[0mline\u001b[0m\u001b[1;33m)\u001b[0m\u001b[1;33m:\u001b[0m\u001b[1;33m\u001b[0m\u001b[0m\n\u001b[1;32m---> 12\u001b[1;33m             \u001b[1;32mif\u001b[0m\u001b[1;33m(\u001b[0m\u001b[0mlen\u001b[0m\u001b[1;33m(\u001b[0m\u001b[0mtitles\u001b[0m\u001b[1;33m[\u001b[0m\u001b[0mcount\u001b[0m\u001b[1;33m-\u001b[0m\u001b[1;36m1\u001b[0m\u001b[1;33m]\u001b[0m\u001b[1;33m)\u001b[0m \u001b[1;33m!=\u001b[0m \u001b[1;36m0\u001b[0m\u001b[1;33m)\u001b[0m\u001b[1;33m:\u001b[0m\u001b[1;33m\u001b[0m\u001b[0m\n\u001b[0m\u001b[0;32m     13\u001b[0m                 \u001b[0mxml\u001b[0m\u001b[1;33m.\u001b[0m\u001b[0mwrite\u001b[0m\u001b[1;33m(\u001b[0m\u001b[1;34m\"</\"\u001b[0m \u001b[1;33m+\u001b[0m \u001b[0mtitles\u001b[0m\u001b[1;33m.\u001b[0m\u001b[0mpop\u001b[0m\u001b[1;33m(\u001b[0m\u001b[1;33m)\u001b[0m\u001b[1;33m.\u001b[0m\u001b[0mstrip\u001b[0m\u001b[1;33m(\u001b[0m\u001b[1;33m)\u001b[0m \u001b[1;33m+\u001b[0m \u001b[1;34m\">\\n\"\u001b[0m\u001b[1;33m)\u001b[0m\u001b[1;33m\u001b[0m\u001b[0m\n\u001b[0;32m     14\u001b[0m                 \u001b[0mcount\u001b[0m \u001b[1;33m-=\u001b[0m \u001b[1;36m1\u001b[0m\u001b[1;33m\u001b[0m\u001b[0m\n",
      "\u001b[1;31mIndexError\u001b[0m: list index out of range"
     ]
    }
   ],
   "source": [
    "inputf = open('input.json', 'r', encoding=\"utf-8\")\n",
    "outputf = open('output.xml', 'w', encoding =\"utf-8\")\n",
    "JsonToXML(inputf, outputf)\n",
    "inputf.close()\n",
    "outputf.close()"
   ]
  },
  {
   "cell_type": "code",
   "execution_count": 105,
   "metadata": {},
   "outputs": [
    {
     "data": {
      "text/plain": [
       "<_io.TextIOWrapper name='output.xml' mode='w' encoding='utf-8'>"
      ]
     },
     "execution_count": 105,
     "metadata": {},
     "output_type": "execute_result"
    }
   ],
   "source": [
    "outputf"
   ]
  },
  {
   "cell_type": "code",
   "execution_count": null,
   "metadata": {},
   "outputs": [],
   "source": [
    "\n"
   ]
  },
  {
   "cell_type": "code",
   "execution_count": null,
   "metadata": {},
   "outputs": [],
   "source": []
  },
  {
   "cell_type": "code",
   "execution_count": null,
   "metadata": {},
   "outputs": [],
   "source": []
  }
 ],
 "metadata": {
  "kernelspec": {
   "display_name": "Python 3",
   "language": "python",
   "name": "python3"
  },
  "language_info": {
   "codemirror_mode": {
    "name": "ipython",
    "version": 3
   },
   "file_extension": ".py",
   "mimetype": "text/x-python",
   "name": "python",
   "nbconvert_exporter": "python",
   "pygments_lexer": "ipython3",
   "version": "3.6.4"
  }
 },
 "nbformat": 4,
 "nbformat_minor": 2
}
